{
 "cells": [
  {
   "cell_type": "code",
   "execution_count": null,
   "metadata": {},
   "outputs": [],
   "source": []
  },
  {
   "cell_type": "code",
   "execution_count": 24,
   "metadata": {},
   "outputs": [],
   "source": [
    "from PIL import Image\n",
    "from PIL import ImageStat\n",
    "import math"
   ]
  },
  {
   "cell_type": "code",
   "execution_count": 25,
   "metadata": {},
   "outputs": [],
   "source": [
    "filePath = \"../input/1.png\""
   ]
  },
  {
   "cell_type": "code",
   "execution_count": 48,
   "metadata": {},
   "outputs": [
    {
     "name": "stdout",
     "output_type": "stream",
     "text": [
      "128.20168006267275 144.96384107566558 169.30941045327543\n",
      "(2700, 1818)\n"
     ]
    }
   ],
   "source": [
    "# code to print r, g, b values\n",
    "im = Image.open(filePath)\n",
    "stat = ImageStat.Stat(im)\n",
    "count = im.size\n",
    "\n",
    "r,g,b = stat.rms\n",
    "\n",
    "print(r, g, b)\n",
    "print(count)"
   ]
  },
  {
   "cell_type": "code",
   "execution_count": null,
   "metadata": {},
   "outputs": [],
   "source": []
  },
  {
   "cell_type": "code",
   "execution_count": 27,
   "metadata": {},
   "outputs": [],
   "source": [
    "# Defination to calculate Brightness\n",
    "def brightness( im_file ):\n",
    "    im = Image.open(im_file)\n",
    "    stat = ImageStat.Stat(im)\n",
    "    r,g,b = stat.rms\n",
    "    return math.sqrt(0.241*(r**2) + 0.691*(g**2) + 0.068*(b**2))"
   ]
  },
  {
   "cell_type": "code",
   "execution_count": 28,
   "metadata": {},
   "outputs": [
    {
     "name": "stdout",
     "output_type": "stream",
     "text": [
      "142.93807285752897\n"
     ]
    }
   ],
   "source": [
    "filePath = \"../input/1.png\"\n",
    "\n",
    "out = brightness(filePath)\n",
    "print(out)"
   ]
  },
  {
   "cell_type": "code",
   "execution_count": 61,
   "metadata": {},
   "outputs": [
    {
     "name": "stdout",
     "output_type": "stream",
     "text": [
      "(92, 122, 172)\n",
      "(2700, 1818) 2700 1818\n",
      "573353780 658870984 767413271\n",
      "116.80596911543006 134.2278824919529 156.3405596300371\n"
     ]
    }
   ],
   "source": [
    "px = im.load()\n",
    "print (px[4,4])\n",
    "\n",
    "size = im.size\n",
    "h = size[0]\n",
    "w = size[1]\n",
    "print(size, h, w)\n",
    "\n",
    "sum_r = 0\n",
    "sum_g = 0\n",
    "sum_b = 0\n",
    "\n",
    "for i in range(0, h):\n",
    "    for j in range(0,w):\n",
    "        t = px[i,j]\n",
    "        sum_r += t[0]\n",
    "        sum_g += t[1]\n",
    "        sum_b += t[2]\n",
    "        \n",
    "print(sum_r, sum_g, sum_b)\n",
    "nPixels = 2700*1818\n",
    "print(sum_r/nPixels, sum_g/nPixels, sum_b/nPixels)\n"
   ]
  },
  {
   "cell_type": "code",
   "execution_count": null,
   "metadata": {},
   "outputs": [],
   "source": []
  }
 ],
 "metadata": {
  "kernelspec": {
   "display_name": "Python 3",
   "language": "python",
   "name": "python3"
  },
  "language_info": {
   "codemirror_mode": {
    "name": "ipython",
    "version": 3
   },
   "file_extension": ".py",
   "mimetype": "text/x-python",
   "name": "python",
   "nbconvert_exporter": "python",
   "pygments_lexer": "ipython3",
   "version": "3.7.4"
  }
 },
 "nbformat": 4,
 "nbformat_minor": 2
}
